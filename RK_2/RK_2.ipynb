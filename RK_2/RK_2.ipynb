{
 "cells": [
  {
   "cell_type": "markdown",
   "metadata": {},
   "source": [
    "# Рубежный контроль №2\n",
    "## Методы построения моделей машинного обучения.\n",
    "\n",
    "Задача: Для заданного набора данных (по Вашему варианту) постройте модели классификации или регрессии (в зависимости от конкретной задачи, рассматриваемой в наборе данных). Для построения моделей используйте методы 1 и 2 (по варианту для Вашей группы). Оцените качество моделей на основе подходящих метрик качества (не менее двух метрик). Какие метрики качества Вы использовали и почему? Какие выводы Вы можете сделать о качестве построенных моделей? Для построения моделей необходимо выполнить требуемую предобработку данных: заполнение пропусков, кодирование категориальных признаков, и т.д.\n",
    "\n",
    "Датасет: https://www.kaggle.com/datasets/fivethirtyeight/fivethirtyeight-comic-characters-dataset?select=dc-wikia-data.csv"
   ]
  },
  {
   "cell_type": "code",
   "execution_count": 7,
   "metadata": {
    "collapsed": true
   },
   "outputs": [],
   "source": [
    "import pandas as pd\n",
    "import matplotlib.pyplot as plt\n",
    "from sklearn.metrics import ConfusionMatrixDisplay, accuracy_score\n",
    "from sklearn.tree import DecisionTreeClassifier\n",
    "from sklearn.impute import SimpleImputer\n",
    "from sklearn.preprocessing import LabelEncoder, OrdinalEncoder\n",
    "import xgboost as xgb\n",
    "import graphviz\n",
    "from sklearn.tree import export_graphviz\n",
    "from sklearn.model_selection import train_test_split, GridSearchCV, StratifiedKFold"
   ]
  },
  {
   "cell_type": "code",
   "execution_count": 8,
   "metadata": {
    "pycharm": {
     "name": "#%%\n"
    }
   },
   "outputs": [
    {
     "data": {
      "text/html": [
       "<div>\n",
       "<style scoped>\n",
       "    .dataframe tbody tr th:only-of-type {\n",
       "        vertical-align: middle;\n",
       "    }\n",
       "\n",
       "    .dataframe tbody tr th {\n",
       "        vertical-align: top;\n",
       "    }\n",
       "\n",
       "    .dataframe thead th {\n",
       "        text-align: right;\n",
       "    }\n",
       "</style>\n",
       "<table border=\"1\" class=\"dataframe\">\n",
       "  <thead>\n",
       "    <tr style=\"text-align: right;\">\n",
       "      <th></th>\n",
       "      <th>page_id</th>\n",
       "      <th>name</th>\n",
       "      <th>urlslug</th>\n",
       "      <th>ID</th>\n",
       "      <th>ALIGN</th>\n",
       "      <th>EYE</th>\n",
       "      <th>HAIR</th>\n",
       "      <th>SEX</th>\n",
       "      <th>GSM</th>\n",
       "      <th>ALIVE</th>\n",
       "      <th>APPEARANCES</th>\n",
       "      <th>FIRST APPEARANCE</th>\n",
       "      <th>YEAR</th>\n",
       "    </tr>\n",
       "  </thead>\n",
       "  <tbody>\n",
       "    <tr>\n",
       "      <th>0</th>\n",
       "      <td>1422</td>\n",
       "      <td>Batman (Bruce Wayne)</td>\n",
       "      <td>\\/wiki\\/Batman_(Bruce_Wayne)</td>\n",
       "      <td>Secret Identity</td>\n",
       "      <td>Good Characters</td>\n",
       "      <td>Blue Eyes</td>\n",
       "      <td>Black Hair</td>\n",
       "      <td>Male Characters</td>\n",
       "      <td>NaN</td>\n",
       "      <td>Living Characters</td>\n",
       "      <td>3093.0</td>\n",
       "      <td>1939, May</td>\n",
       "      <td>1939.0</td>\n",
       "    </tr>\n",
       "    <tr>\n",
       "      <th>1</th>\n",
       "      <td>23387</td>\n",
       "      <td>Superman (Clark Kent)</td>\n",
       "      <td>\\/wiki\\/Superman_(Clark_Kent)</td>\n",
       "      <td>Secret Identity</td>\n",
       "      <td>Good Characters</td>\n",
       "      <td>Blue Eyes</td>\n",
       "      <td>Black Hair</td>\n",
       "      <td>Male Characters</td>\n",
       "      <td>NaN</td>\n",
       "      <td>Living Characters</td>\n",
       "      <td>2496.0</td>\n",
       "      <td>1986, October</td>\n",
       "      <td>1986.0</td>\n",
       "    </tr>\n",
       "    <tr>\n",
       "      <th>2</th>\n",
       "      <td>1458</td>\n",
       "      <td>Green Lantern (Hal Jordan)</td>\n",
       "      <td>\\/wiki\\/Green_Lantern_(Hal_Jordan)</td>\n",
       "      <td>Secret Identity</td>\n",
       "      <td>Good Characters</td>\n",
       "      <td>Brown Eyes</td>\n",
       "      <td>Brown Hair</td>\n",
       "      <td>Male Characters</td>\n",
       "      <td>NaN</td>\n",
       "      <td>Living Characters</td>\n",
       "      <td>1565.0</td>\n",
       "      <td>1959, October</td>\n",
       "      <td>1959.0</td>\n",
       "    </tr>\n",
       "    <tr>\n",
       "      <th>3</th>\n",
       "      <td>1659</td>\n",
       "      <td>James Gordon (New Earth)</td>\n",
       "      <td>\\/wiki\\/James_Gordon_(New_Earth)</td>\n",
       "      <td>Public Identity</td>\n",
       "      <td>Good Characters</td>\n",
       "      <td>Brown Eyes</td>\n",
       "      <td>White Hair</td>\n",
       "      <td>Male Characters</td>\n",
       "      <td>NaN</td>\n",
       "      <td>Living Characters</td>\n",
       "      <td>1316.0</td>\n",
       "      <td>1987, February</td>\n",
       "      <td>1987.0</td>\n",
       "    </tr>\n",
       "    <tr>\n",
       "      <th>4</th>\n",
       "      <td>1576</td>\n",
       "      <td>Richard Grayson (New Earth)</td>\n",
       "      <td>\\/wiki\\/Richard_Grayson_(New_Earth)</td>\n",
       "      <td>Secret Identity</td>\n",
       "      <td>Good Characters</td>\n",
       "      <td>Blue Eyes</td>\n",
       "      <td>Black Hair</td>\n",
       "      <td>Male Characters</td>\n",
       "      <td>NaN</td>\n",
       "      <td>Living Characters</td>\n",
       "      <td>1237.0</td>\n",
       "      <td>1940, April</td>\n",
       "      <td>1940.0</td>\n",
       "    </tr>\n",
       "  </tbody>\n",
       "</table>\n",
       "</div>"
      ],
      "text/plain": [
       "   page_id                         name                              urlslug  \\\n",
       "0     1422         Batman (Bruce Wayne)         \\/wiki\\/Batman_(Bruce_Wayne)   \n",
       "1    23387        Superman (Clark Kent)        \\/wiki\\/Superman_(Clark_Kent)   \n",
       "2     1458   Green Lantern (Hal Jordan)   \\/wiki\\/Green_Lantern_(Hal_Jordan)   \n",
       "3     1659     James Gordon (New Earth)     \\/wiki\\/James_Gordon_(New_Earth)   \n",
       "4     1576  Richard Grayson (New Earth)  \\/wiki\\/Richard_Grayson_(New_Earth)   \n",
       "\n",
       "                ID            ALIGN         EYE        HAIR              SEX  \\\n",
       "0  Secret Identity  Good Characters   Blue Eyes  Black Hair  Male Characters   \n",
       "1  Secret Identity  Good Characters   Blue Eyes  Black Hair  Male Characters   \n",
       "2  Secret Identity  Good Characters  Brown Eyes  Brown Hair  Male Characters   \n",
       "3  Public Identity  Good Characters  Brown Eyes  White Hair  Male Characters   \n",
       "4  Secret Identity  Good Characters   Blue Eyes  Black Hair  Male Characters   \n",
       "\n",
       "   GSM              ALIVE  APPEARANCES FIRST APPEARANCE    YEAR  \n",
       "0  NaN  Living Characters       3093.0        1939, May  1939.0  \n",
       "1  NaN  Living Characters       2496.0    1986, October  1986.0  \n",
       "2  NaN  Living Characters       1565.0    1959, October  1959.0  \n",
       "3  NaN  Living Characters       1316.0   1987, February  1987.0  \n",
       "4  NaN  Living Characters       1237.0      1940, April  1940.0  "
      ]
     },
     "execution_count": 8,
     "metadata": {},
     "output_type": "execute_result"
    }
   ],
   "source": [
    "data = pd.read_csv('dc-wikia-data.csv', sep=',')\n",
    "data.head()"
   ]
  },
  {
   "cell_type": "code",
   "execution_count": 9,
   "metadata": {
    "pycharm": {
     "name": "#%%\n"
    }
   },
   "outputs": [],
   "source": [
    "# Удаление ненужных колонок\n",
    "data.drop(columns=['page_id', 'name', 'urlslug'], inplace=True)"
   ]
  },
  {
   "cell_type": "code",
   "execution_count": 10,
   "metadata": {
    "pycharm": {
     "name": "#%%\n"
    }
   },
   "outputs": [
    {
     "data": {
      "text/plain": [
       "ID                   object\n",
       "ALIGN                object\n",
       "EYE                  object\n",
       "HAIR                 object\n",
       "SEX                  object\n",
       "GSM                  object\n",
       "ALIVE                object\n",
       "APPEARANCES         float64\n",
       "FIRST APPEARANCE     object\n",
       "YEAR                float64\n",
       "dtype: object"
      ]
     },
     "execution_count": 10,
     "metadata": {},
     "output_type": "execute_result"
    }
   ],
   "source": [
    "data.dtypes"
   ]
  },
  {
   "cell_type": "markdown",
   "metadata": {},
   "source": [
    "Посмотрим сколько значений пропущено"
   ]
  },
  {
   "cell_type": "code",
   "execution_count": 11,
   "metadata": {
    "pycharm": {
     "name": "#%%\n"
    }
   },
   "outputs": [
    {
     "name": "stdout",
     "output_type": "stream",
     "text": [
      " ID, ( object ) , data loss 29.19%\n",
      " ALIGN, ( object ) , data loss 8.72%\n",
      " EYE, ( object ) , data loss 52.61%\n",
      " HAIR, ( object ) , data loss 32.98%\n",
      " SEX, ( object ) , data loss 1.81%\n",
      " GSM, ( object ) , data loss 99.07%\n",
      " ALIVE, ( object ) , data loss 0.04%\n",
      " APPEARANCES, ( float64 ) , data loss 5.15%\n",
      " FIRST APPEARANCE, ( object ) , data loss 1.00%\n",
      " YEAR, ( float64 ) , data loss 1.00%\n"
     ]
    }
   ],
   "source": [
    "total_rows = data.shape[0]\n",
    "for col in data.columns:\n",
    "    null_count = data[data[col].isnull()].shape[0]\n",
    "    col_type = str(data[col].dtype)\n",
    "    print(f' {col}, ( {col_type} ) , data loss {null_count / total_rows * 100:.2f}%')"
   ]
  },
  {
   "cell_type": "markdown",
   "metadata": {},
   "source": [
    "Удалим столбцы EYE и GSM из-за большого количества пропусков"
   ]
  },
  {
   "cell_type": "code",
   "execution_count": 12,
   "metadata": {
    "pycharm": {
     "name": "#%%\n"
    }
   },
   "outputs": [],
   "source": [
    "data.drop(columns=['EYE', 'GSM', 'YEAR'], inplace=True)"
   ]
  },
  {
   "cell_type": "markdown",
   "metadata": {},
   "source": [
    "Удалим строки, содержащие пропуски в столбцах YEAR, FIRST APPEARANCE и ALIGN"
   ]
  },
  {
   "cell_type": "code",
   "execution_count": 13,
   "metadata": {
    "pycharm": {
     "name": "#%%\n"
    }
   },
   "outputs": [],
   "source": [
    "data.dropna(axis=0, how='any', subset=['FIRST APPEARANCE', 'ALIGN', 'APPEARANCES'], inplace=True)"
   ]
  },
  {
   "cell_type": "markdown",
   "metadata": {},
   "source": [
    "Заполним пропуски в категориальных столбцах при помощих самых часто встречаемых значений"
   ]
  },
  {
   "cell_type": "code",
   "execution_count": 14,
   "metadata": {
    "pycharm": {
     "name": "#%%\n"
    }
   },
   "outputs": [
    {
     "data": {
      "text/plain": [
       "ID                  0\n",
       "ALIGN               0\n",
       "HAIR                0\n",
       "SEX                 0\n",
       "ALIVE               0\n",
       "APPEARANCES         0\n",
       "FIRST APPEARANCE    0\n",
       "dtype: int64"
      ]
     },
     "execution_count": 14,
     "metadata": {},
     "output_type": "execute_result"
    }
   ],
   "source": [
    "cat_simp_imp = SimpleImputer(strategy='most_frequent')\n",
    "cat_data_imputed = cat_simp_imp.fit_transform(data.drop(columns=['APPEARANCES']))\n",
    "data[data.drop(columns=['APPEARANCES']).columns] = cat_data_imputed\n",
    "data.isnull().sum()"
   ]
  },
  {
   "cell_type": "markdown",
   "metadata": {},
   "source": [
    "Теперь закодируем категориальные признаки"
   ]
  },
  {
   "cell_type": "code",
   "execution_count": 15,
   "metadata": {
    "pycharm": {
     "name": "#%%\n"
    }
   },
   "outputs": [
    {
     "name": "stderr",
     "output_type": "stream",
     "text": [
      "c:\\Users\\danib\\Documents\\pyton\\myvenv\\lib\\site-packages\\sklearn\\preprocessing\\_label.py:115: DataConversionWarning: A column-vector y was passed when a 1d array was expected. Please change the shape of y to (n_samples, ), for example using ravel().\n",
      "  y = column_or_1d(y, warn=True)\n"
     ]
    },
    {
     "data": {
      "text/plain": [
       "array(['Bad Characters', 'Good Characters', 'Neutral Characters',\n",
       "       'Reformed Criminals'], dtype=object)"
      ]
     },
     "execution_count": 15,
     "metadata": {},
     "output_type": "execute_result"
    }
   ],
   "source": [
    "oe = OrdinalEncoder()\n",
    "attrs_coded = oe.fit_transform(data.drop(columns=['ALIGN', 'APPEARANCES']))\n",
    "data[data.drop(columns=['ALIGN', 'APPEARANCES']).columns] = attrs_coded\n",
    "\n",
    "le = LabelEncoder()\n",
    "target_coded = le.fit_transform(data[['ALIGN']])\n",
    "data['ALIGN'] = target_coded\n",
    "le.classes_"
   ]
  },
  {
   "cell_type": "markdown",
   "metadata": {},
   "source": [
    "## Разделение выборки на обучающую и тестовую"
   ]
  },
  {
   "cell_type": "markdown",
   "metadata": {},
   "source": [
    "В качестве уелевого признака возьмем столбец ALIGN"
   ]
  },
  {
   "cell_type": "code",
   "execution_count": 16,
   "metadata": {
    "pycharm": {
     "name": "#%%\n"
    }
   },
   "outputs": [],
   "source": [
    "data_X = data.drop(columns=['ALIGN'])\n",
    "data_y = data[['ALIGN']]\n",
    "train_X, test_X, train_y, test_y = train_test_split(data_X, data_y)"
   ]
  },
  {
   "cell_type": "markdown",
   "metadata": {},
   "source": [
    "## Дерево решений"
   ]
  },
  {
   "cell_type": "code",
   "execution_count": 17,
   "metadata": {
    "pycharm": {
     "name": "#%%\n"
    }
   },
   "outputs": [],
   "source": [
    "tree_params_search = {\n",
    "    'max_depth': [2, 4, 6, 8, 10],\n",
    "    'min_samples_leaf': [0.04, 0.06, 0.08, 0.1],\n",
    "    'max_features': [0.2, 0.4, 0.6, 0.8, 1]\n",
    "}"
   ]
  },
  {
   "cell_type": "code",
   "execution_count": 18,
   "metadata": {
    "pycharm": {
     "name": "#%%\n"
    }
   },
   "outputs": [
    {
     "name": "stderr",
     "output_type": "stream",
     "text": [
      "c:\\Users\\danib\\Documents\\pyton\\myvenv\\lib\\site-packages\\sklearn\\model_selection\\_split.py:676: UserWarning: The least populated class in y has only 2 members, which is less than n_splits=5.\n",
      "  warnings.warn(\n"
     ]
    },
    {
     "data": {
      "text/plain": [
       "({'max_depth': 4, 'max_features': 0.8, 'min_samples_leaf': 0.1},\n",
       " 0.5905005117603543)"
      ]
     },
     "execution_count": 18,
     "metadata": {},
     "output_type": "execute_result"
    }
   ],
   "source": [
    "grid_search_tree = GridSearchCV(DecisionTreeClassifier(), tree_params_search, scoring='accuracy', cv=StratifiedKFold(n_splits=5), n_jobs=4)\n",
    "grid_search_tree.fit(train_X, train_y)\n",
    "\n",
    "grid_search_tree.best_params_, grid_search_tree.best_score_"
   ]
  },
  {
   "cell_type": "code",
   "execution_count": 19,
   "metadata": {
    "pycharm": {
     "name": "#%%\n"
    }
   },
   "outputs": [
    {
     "data": {
      "text/plain": [
       "0.5854152599594868"
      ]
     },
     "execution_count": 19,
     "metadata": {},
     "output_type": "execute_result"
    },
    {
     "data": {
      "image/png": "[encoded data removed]",
      "text/plain": [
       "<Figure size 720x720 with 2 Axes>"
      ]
     },
     "metadata": {
      "needs_background": "light"
     },
     "output_type": "display_data"
    }
   ],
   "source": [
    "tree: DecisionTreeClassifier = grid_search_tree.best_estimator_\n",
    "tree.fit(train_X, train_y)\n",
    "tree_pred = tree.predict(test_X)\n",
    "fig, ax = plt.subplots(figsize=(10, 10))\n",
    "ConfusionMatrixDisplay.from_predictions(test_y, tree_pred, ax=ax, display_labels=le.classes_)\n",
    "accuracy_score(tree_pred, test_y)"
   ]
  },
  {
   "cell_type": "code",
   "execution_count": 20,
   "metadata": {
    "pycharm": {
     "name": "#%%\n"
    }
   },
   "outputs": [
    {
     "data": {
      "image/svg+xml": "<?xml version=\"1.0\" encoding=\"UTF-8\" standalone=\"no\"?>\r\n<!DOCTYPE svg PUBLIC \"-//W3C//DTD SVG 1.1//EN\"\r\n \"http://www.w3.org/Graphics/SVG/1.1/DTD/svg11.dtd\">\r\n<!-- Generated by graphviz version 2.49.1 (20210923.0004)\r\n -->\r\n<!-- Title: Tree Pages: 1 -->\r\n<svg width=\"777pt\" height=\"552pt\"\r\n viewBox=\"0.00 0.00 777.00 552.00\" xmlns=\"http://www.w3.org/2000/svg\" xmlns:xlink=\"http://www.w3.org/1999/xlink\">\r\n<g id=\"graph0\" class=\"graph\" transform=\"scale(1 1) rotate(0) translate(4 548)\">\r\n<title>Tree</title>\r\n<polygon fill=\"white\" stroke=\"transparent\" points=\"-4,4 -4,-548 773,-548 773,4 -4,4\"/>\r\n<!-- 0 -->\r\n<g id=\"node1\" class=\"node\">\r\n<title>0</title>\r\n<path fill=\"#fffdfc\" stroke=\"black\" d=\"M474,-544C474,-544 304,-544 304,-544 298,-544 292,-538 292,-532 292,-532 292,-473 292,-473 292,-467 298,-461 304,-461 304,-461 474,-461 474,-461 480,-461 486,-467 486,-473 486,-473 486,-532 486,-532 486,-538 480,-544 474,-544\"/>\r\n<text text-anchor=\"start\" x=\"312.5\" y=\"-528.8\" font-family=\"Helvetica,sans-Serif\" font-size=\"14.00\">APPEARANCES ≤ 13.5</text>\r\n<text text-anchor=\"start\" x=\"351.5\" y=\"-513.8\" font-family=\"Helvetica,sans-Serif\" font-size=\"14.00\">gini = 0.583</text>\r\n<text text-anchor=\"start\" x=\"337.5\" y=\"-498.8\" font-family=\"Helvetica,sans-Serif\" font-size=\"14.00\">samples = 4442</text>\r\n<text text-anchor=\"start\" x=\"300\" y=\"-483.8\" font-family=\"Helvetica,sans-Serif\" font-size=\"14.00\">value = [2026, 1987, 427, 2]</text>\r\n<text text-anchor=\"start\" x=\"315\" y=\"-468.8\" font-family=\"Helvetica,sans-Serif\" font-size=\"14.00\">class = Bad Characters</text>\r\n</g>\r\n<!-- 1 -->\r\n<g id=\"node2\" class=\"node\">\r\n<title>1</title>\r\n<path fill=\"#f9e0ce\" stroke=\"black\" d=\"M372,-425C372,-425 202,-425 202,-425 196,-425 190,-419 190,-413 190,-413 190,-354 190,-354 190,-348 196,-342 202,-342 202,-342 372,-342 372,-342 378,-342 384,-348 384,-354 384,-354 384,-413 384,-413 384,-419 378,-425 372,-425\"/>\r\n<text text-anchor=\"start\" x=\"254.5\" y=\"-409.8\" font-family=\"Helvetica,sans-Serif\" font-size=\"14.00\">SEX ≤ 0.5</text>\r\n<text text-anchor=\"start\" x=\"249.5\" y=\"-394.8\" font-family=\"Helvetica,sans-Serif\" font-size=\"14.00\">gini = 0.567</text>\r\n<text text-anchor=\"start\" x=\"235.5\" y=\"-379.8\" font-family=\"Helvetica,sans-Serif\" font-size=\"14.00\">samples = 3189</text>\r\n<text text-anchor=\"start\" x=\"198\" y=\"-364.8\" font-family=\"Helvetica,sans-Serif\" font-size=\"14.00\">value = [1694, 1202, 292, 1]</text>\r\n<text text-anchor=\"start\" x=\"213\" y=\"-349.8\" font-family=\"Helvetica,sans-Serif\" font-size=\"14.00\">class = Bad Characters</text>\r\n</g>\r\n<!-- 0&#45;&gt;1 -->\r\n<g id=\"edge1\" class=\"edge\">\r\n<title>0&#45;&gt;1</title>\r\n<path fill=\"none\" stroke=\"black\" d=\"M353.61,-460.91C345.7,-451.83 337.23,-442.12 329.08,-432.77\"/>\r\n<polygon fill=\"black\" stroke=\"black\" points=\"331.54,-430.26 322.33,-425.02 326.26,-434.86 331.54,-430.26\"/>\r\n<text text-anchor=\"middle\" x=\"320.62\" y=\"-446.26\" font-family=\"Helvetica,sans-Serif\" font-size=\"14.00\">True</text>\r\n</g>\r\n<!-- 8 -->\r\n<g id=\"node9\" class=\"node\">\r\n<title>8</title>\r\n<path fill=\"#a4f29e\" stroke=\"black\" d=\"M568,-425C568,-425 414,-425 414,-425 408,-425 402,-419 402,-413 402,-413 402,-354 402,-354 402,-348 408,-342 414,-342 414,-342 568,-342 568,-342 574,-342 580,-348 580,-354 580,-354 580,-413 580,-413 580,-419 574,-425 568,-425\"/>\r\n<text text-anchor=\"start\" x=\"414.5\" y=\"-409.8\" font-family=\"Helvetica,sans-Serif\" font-size=\"14.00\">APPEARANCES ≤ 33.5</text>\r\n<text text-anchor=\"start\" x=\"453.5\" y=\"-394.8\" font-family=\"Helvetica,sans-Serif\" font-size=\"14.00\">gini = 0.526</text>\r\n<text text-anchor=\"start\" x=\"439.5\" y=\"-379.8\" font-family=\"Helvetica,sans-Serif\" font-size=\"14.00\">samples = 1253</text>\r\n<text text-anchor=\"start\" x=\"410\" y=\"-364.8\" font-family=\"Helvetica,sans-Serif\" font-size=\"14.00\">value = [332, 785, 135, 1]</text>\r\n<text text-anchor=\"start\" x=\"412\" y=\"-349.8\" font-family=\"Helvetica,sans-Serif\" font-size=\"14.00\">class = Good Characters</text>\r\n</g>\r\n<!-- 0&#45;&gt;8 -->\r\n<g id=\"edge8\" class=\"edge\">\r\n<title>0&#45;&gt;8</title>\r\n<path fill=\"none\" stroke=\"black\" d=\"M424.39,-460.91C432.3,-451.83 440.77,-442.12 448.92,-432.77\"/>\r\n<polygon fill=\"black\" stroke=\"black\" points=\"451.74,-434.86 455.67,-425.02 446.46,-430.26 451.74,-434.86\"/>\r\n<text text-anchor=\"middle\" x=\"457.38\" y=\"-446.26\" font-family=\"Helvetica,sans-Serif\" font-size=\"14.00\">False</text>\r\n</g>\r\n<!-- 2 -->\r\n<g id=\"node3\" class=\"node\">\r\n<title>2</title>\r\n<path fill=\"#f0fdee\" stroke=\"black\" d=\"M166,-298.5C166,-298.5 12,-298.5 12,-298.5 6,-298.5 0,-292.5 0,-286.5 0,-286.5 0,-242.5 0,-242.5 0,-236.5 6,-230.5 12,-230.5 12,-230.5 166,-230.5 166,-230.5 172,-230.5 178,-236.5 178,-242.5 178,-242.5 178,-286.5 178,-286.5 178,-292.5 172,-298.5 166,-298.5\"/>\r\n<text text-anchor=\"start\" x=\"51.5\" y=\"-283.3\" font-family=\"Helvetica,sans-Serif\" font-size=\"14.00\">gini = 0.594</text>\r\n<text text-anchor=\"start\" x=\"41.5\" y=\"-268.3\" font-family=\"Helvetica,sans-Serif\" font-size=\"14.00\">samples = 880</text>\r\n<text text-anchor=\"start\" x=\"8\" y=\"-253.3\" font-family=\"Helvetica,sans-Serif\" font-size=\"14.00\">value = [368, 411, 101, 0]</text>\r\n<text text-anchor=\"start\" x=\"10\" y=\"-238.3\" font-family=\"Helvetica,sans-Serif\" font-size=\"14.00\">class = Good Characters</text>\r\n</g>\r\n<!-- 1&#45;&gt;2 -->\r\n<g id=\"edge2\" class=\"edge\">\r\n<title>1&#45;&gt;2</title>\r\n<path fill=\"none\" stroke=\"black\" d=\"M218.3,-341.91C197.39,-329.55 174.48,-316.01 153.83,-303.81\"/>\r\n<polygon fill=\"black\" stroke=\"black\" points=\"155.52,-300.74 145.13,-298.67 151.96,-306.77 155.52,-300.74\"/>\r\n</g>\r\n<!-- 3 -->\r\n<g id=\"node4\" class=\"node\">\r\n<title>3</title>\r\n<path fill=\"#f6d3b9\" stroke=\"black\" d=\"M370,-306C370,-306 208,-306 208,-306 202,-306 196,-300 196,-294 196,-294 196,-235 196,-235 196,-229 202,-223 208,-223 208,-223 370,-223 370,-223 376,-223 382,-229 382,-235 382,-235 382,-294 382,-294 382,-300 376,-306 370,-306\"/>\r\n<text text-anchor=\"start\" x=\"263.5\" y=\"-290.8\" font-family=\"Helvetica,sans-Serif\" font-size=\"14.00\">ID ≤ 1.5</text>\r\n<text text-anchor=\"start\" x=\"251.5\" y=\"-275.8\" font-family=\"Helvetica,sans-Serif\" font-size=\"14.00\">gini = 0.546</text>\r\n<text text-anchor=\"start\" x=\"237.5\" y=\"-260.8\" font-family=\"Helvetica,sans-Serif\" font-size=\"14.00\">samples = 2309</text>\r\n<text text-anchor=\"start\" x=\"204\" y=\"-245.8\" font-family=\"Helvetica,sans-Serif\" font-size=\"14.00\">value = [1326, 791, 191, 1]</text>\r\n<text text-anchor=\"start\" x=\"215\" y=\"-230.8\" font-family=\"Helvetica,sans-Serif\" font-size=\"14.00\">class = Bad Characters</text>\r\n</g>\r\n<!-- 1&#45;&gt;3 -->\r\n<g id=\"edge3\" class=\"edge\">\r\n<title>1&#45;&gt;3</title>\r\n<path fill=\"none\" stroke=\"black\" d=\"M287.69,-341.91C287.84,-333.56 287.99,-324.67 288.14,-316.02\"/>\r\n<polygon fill=\"black\" stroke=\"black\" points=\"291.64,-316.08 288.31,-306.02 284.64,-315.96 291.64,-316.08\"/>\r\n</g>\r\n<!-- 4 -->\r\n<g id=\"node5\" class=\"node\">\r\n<title>4</title>\r\n<path fill=\"#fae5d7\" stroke=\"black\" d=\"M279,-187C279,-187 89,-187 89,-187 83,-187 77,-181 77,-175 77,-175 77,-116 77,-116 77,-110 83,-104 89,-104 89,-104 279,-104 279,-104 285,-104 291,-110 291,-116 291,-116 291,-175 291,-175 291,-181 285,-187 279,-187\"/>\r\n<text text-anchor=\"start\" x=\"85\" y=\"-171.8\" font-family=\"Helvetica,sans-Serif\" font-size=\"14.00\">FIRST APPEARANCE ≤ 481.5</text>\r\n<text text-anchor=\"start\" x=\"146.5\" y=\"-156.8\" font-family=\"Helvetica,sans-Serif\" font-size=\"14.00\">gini = 0.576</text>\r\n<text text-anchor=\"start\" x=\"132.5\" y=\"-141.8\" font-family=\"Helvetica,sans-Serif\" font-size=\"14.00\">samples = 1522</text>\r\n<text text-anchor=\"start\" x=\"103\" y=\"-126.8\" font-family=\"Helvetica,sans-Serif\" font-size=\"14.00\">value = [781, 591, 149, 1]</text>\r\n<text text-anchor=\"start\" x=\"110\" y=\"-111.8\" font-family=\"Helvetica,sans-Serif\" font-size=\"14.00\">class = Bad Characters</text>\r\n</g>\r\n<!-- 3&#45;&gt;4 -->\r\n<g id=\"edge4\" class=\"edge\">\r\n<title>3&#45;&gt;4</title>\r\n<path fill=\"none\" stroke=\"black\" d=\"M252.57,-222.91C244.35,-213.74 235.54,-203.93 227.07,-194.49\"/>\r\n<polygon fill=\"black\" stroke=\"black\" points=\"229.65,-192.13 220.36,-187.02 224.44,-196.8 229.65,-192.13\"/>\r\n</g>\r\n<!-- 7 -->\r\n<g id=\"node8\" class=\"node\">\r\n<title>7</title>\r\n<path fill=\"#f0b58b\" stroke=\"black\" d=\"M467,-179.5C467,-179.5 321,-179.5 321,-179.5 315,-179.5 309,-173.5 309,-167.5 309,-167.5 309,-123.5 309,-123.5 309,-117.5 315,-111.5 321,-111.5 321,-111.5 467,-111.5 467,-111.5 473,-111.5 479,-117.5 479,-123.5 479,-123.5 479,-167.5 479,-167.5 479,-173.5 473,-179.5 467,-179.5\"/>\r\n<text text-anchor=\"start\" x=\"356.5\" y=\"-164.3\" font-family=\"Helvetica,sans-Serif\" font-size=\"14.00\">gini = 0.453</text>\r\n<text text-anchor=\"start\" x=\"346.5\" y=\"-149.3\" font-family=\"Helvetica,sans-Serif\" font-size=\"14.00\">samples = 787</text>\r\n<text text-anchor=\"start\" x=\"317\" y=\"-134.3\" font-family=\"Helvetica,sans-Serif\" font-size=\"14.00\">value = [545, 200, 42, 0]</text>\r\n<text text-anchor=\"start\" x=\"320\" y=\"-119.3\" font-family=\"Helvetica,sans-Serif\" font-size=\"14.00\">class = Bad Characters</text>\r\n</g>\r\n<!-- 3&#45;&gt;7 -->\r\n<g id=\"edge7\" class=\"edge\">\r\n<title>3&#45;&gt;7</title>\r\n<path fill=\"none\" stroke=\"black\" d=\"M325.43,-222.91C335.83,-211.32 347.16,-198.7 357.55,-187.11\"/>\r\n<polygon fill=\"black\" stroke=\"black\" points=\"360.16,-189.45 364.23,-179.67 354.95,-184.77 360.16,-189.45\"/>\r\n</g>\r\n<!-- 5 -->\r\n<g id=\"node6\" class=\"node\">\r\n<title>5</title>\r\n<path fill=\"#fffffe\" stroke=\"black\" d=\"M161,-68C161,-68 15,-68 15,-68 9,-68 3,-62 3,-56 3,-56 3,-12 3,-12 3,-6 9,0 15,0 15,0 161,0 161,0 167,0 173,-6 173,-12 173,-12 173,-56 173,-56 173,-62 167,-68 161,-68\"/>\r\n<text text-anchor=\"start\" x=\"50.5\" y=\"-52.8\" font-family=\"Helvetica,sans-Serif\" font-size=\"14.00\">gini = 0.564</text>\r\n<text text-anchor=\"start\" x=\"40.5\" y=\"-37.8\" font-family=\"Helvetica,sans-Serif\" font-size=\"14.00\">samples = 647</text>\r\n<text text-anchor=\"start\" x=\"11\" y=\"-22.8\" font-family=\"Helvetica,sans-Serif\" font-size=\"14.00\">value = [301, 300, 46, 0]</text>\r\n<text text-anchor=\"start\" x=\"14\" y=\"-7.8\" font-family=\"Helvetica,sans-Serif\" font-size=\"14.00\">class = Bad Characters</text>\r\n</g>\r\n<!-- 4&#45;&gt;5 -->\r\n<g id=\"edge5\" class=\"edge\">\r\n<title>4&#45;&gt;5</title>\r\n<path fill=\"none\" stroke=\"black\" d=\"M148.25,-103.73C140.34,-94.7 131.94,-85.12 124.02,-76.08\"/>\r\n<polygon fill=\"black\" stroke=\"black\" points=\"126.42,-73.51 117.19,-68.3 121.15,-78.13 126.42,-73.51\"/>\r\n</g>\r\n<!-- 6 -->\r\n<g id=\"node7\" class=\"node\">\r\n<title>6</title>\r\n<path fill=\"#f7d6bf\" stroke=\"black\" d=\"M357,-68C357,-68 203,-68 203,-68 197,-68 191,-62 191,-56 191,-56 191,-12 191,-12 191,-6 197,0 203,0 203,0 357,0 357,0 363,0 369,-6 369,-12 369,-12 369,-56 369,-56 369,-62 363,-68 357,-68\"/>\r\n<text text-anchor=\"start\" x=\"242.5\" y=\"-52.8\" font-family=\"Helvetica,sans-Serif\" font-size=\"14.00\">gini = 0.575</text>\r\n<text text-anchor=\"start\" x=\"232.5\" y=\"-37.8\" font-family=\"Helvetica,sans-Serif\" font-size=\"14.00\">samples = 875</text>\r\n<text text-anchor=\"start\" x=\"199\" y=\"-22.8\" font-family=\"Helvetica,sans-Serif\" font-size=\"14.00\">value = [480, 291, 103, 1]</text>\r\n<text text-anchor=\"start\" x=\"206\" y=\"-7.8\" font-family=\"Helvetica,sans-Serif\" font-size=\"14.00\">class = Bad Characters</text>\r\n</g>\r\n<!-- 4&#45;&gt;6 -->\r\n<g id=\"edge6\" class=\"edge\">\r\n<title>4&#45;&gt;6</title>\r\n<path fill=\"none\" stroke=\"black\" d=\"M219.75,-103.73C227.66,-94.7 236.06,-85.12 243.98,-76.08\"/>\r\n<polygon fill=\"black\" stroke=\"black\" points=\"246.85,-78.13 250.81,-68.3 241.58,-73.51 246.85,-78.13\"/>\r\n</g>\r\n<!-- 9 -->\r\n<g id=\"node10\" class=\"node\">\r\n<title>9</title>\r\n<path fill=\"#bbf5b6\" stroke=\"black\" d=\"M565,-298.5C565,-298.5 415,-298.5 415,-298.5 409,-298.5 403,-292.5 403,-286.5 403,-286.5 403,-242.5 403,-242.5 403,-236.5 409,-230.5 415,-230.5 415,-230.5 565,-230.5 565,-230.5 571,-230.5 577,-236.5 577,-242.5 577,-242.5 577,-286.5 577,-286.5 577,-292.5 571,-298.5 565,-298.5\"/>\r\n<text text-anchor=\"start\" x=\"452.5\" y=\"-283.3\" font-family=\"Helvetica,sans-Serif\" font-size=\"14.00\">gini = 0.566</text>\r\n<text text-anchor=\"start\" x=\"442.5\" y=\"-268.3\" font-family=\"Helvetica,sans-Serif\" font-size=\"14.00\">samples = 687</text>\r\n<text text-anchor=\"start\" x=\"413\" y=\"-253.3\" font-family=\"Helvetica,sans-Serif\" font-size=\"14.00\">value = [215, 390, 82, 0]</text>\r\n<text text-anchor=\"start\" x=\"411\" y=\"-238.3\" font-family=\"Helvetica,sans-Serif\" font-size=\"14.00\">class = Good Characters</text>\r\n</g>\r\n<!-- 8&#45;&gt;9 -->\r\n<g id=\"edge9\" class=\"edge\">\r\n<title>8&#45;&gt;9</title>\r\n<path fill=\"none\" stroke=\"black\" d=\"M490.65,-341.91C490.56,-331.2 490.46,-319.62 490.37,-308.78\"/>\r\n<polygon fill=\"black\" stroke=\"black\" points=\"493.87,-308.64 490.28,-298.67 486.87,-308.7 493.87,-308.64\"/>\r\n</g>\r\n<!-- 10 -->\r\n<g id=\"node11\" class=\"node\">\r\n<title>10</title>\r\n<path fill=\"#8def84\" stroke=\"black\" d=\"M757,-298.5C757,-298.5 607,-298.5 607,-298.5 601,-298.5 595,-292.5 595,-286.5 595,-286.5 595,-242.5 595,-242.5 595,-236.5 601,-230.5 607,-230.5 607,-230.5 757,-230.5 757,-230.5 763,-230.5 769,-236.5 769,-242.5 769,-242.5 769,-286.5 769,-286.5 769,-292.5 763,-298.5 757,-298.5\"/>\r\n<text text-anchor=\"start\" x=\"644.5\" y=\"-283.3\" font-family=\"Helvetica,sans-Serif\" font-size=\"14.00\">gini = 0.461</text>\r\n<text text-anchor=\"start\" x=\"634.5\" y=\"-268.3\" font-family=\"Helvetica,sans-Serif\" font-size=\"14.00\">samples = 566</text>\r\n<text text-anchor=\"start\" x=\"605\" y=\"-253.3\" font-family=\"Helvetica,sans-Serif\" font-size=\"14.00\">value = [117, 395, 53, 1]</text>\r\n<text text-anchor=\"start\" x=\"603\" y=\"-238.3\" font-family=\"Helvetica,sans-Serif\" font-size=\"14.00\">class = Good Characters</text>\r\n</g>\r\n<!-- 8&#45;&gt;10 -->\r\n<g id=\"edge10\" class=\"edge\">\r\n<title>8&#45;&gt;10</title>\r\n<path fill=\"none\" stroke=\"black\" d=\"M557.27,-341.91C577.35,-329.6 599.35,-316.13 619.2,-303.97\"/>\r\n<polygon fill=\"black\" stroke=\"black\" points=\"621.16,-306.88 627.86,-298.67 617.5,-300.91 621.16,-306.88\"/>\r\n</g>\r\n</g>\r\n</svg>\r\n",
      "text/plain": [
       "<graphviz.files.Source at 0x19ae30cc640>"
      ]
     },
     "execution_count": 20,
     "metadata": {},
     "output_type": "execute_result"
    }
   ],
   "source": [
    "dot_data = export_graphviz(tree, out_file=None,\n",
    "                           feature_names=list(data_X.columns),\n",
    "                           class_names=list(le.classes_),\n",
    "                           filled=True, rounded=True, special_characters=True)\n",
    "graph = graphviz.Source(dot_data)\n",
    "graph"
   ]
  },
  {
   "cell_type": "markdown",
   "metadata": {},
   "source": [
    "## Градиентный бустинг"
   ]
  },
  {
   "cell_type": "code",
   "execution_count": 22,
   "metadata": {
    "pycharm": {
     "name": "#%%\n"
    }
   },
   "outputs": [
    {
     "name": "stderr",
     "output_type": "stream",
     "text": [
      "c:\\Users\\danib\\Documents\\pyton\\myvenv\\lib\\site-packages\\sklearn\\model_selection\\_split.py:676: UserWarning: The least populated class in y has only 2 members, which is less than n_splits=5.\n",
      "  warnings.warn(\n"
     ]
    },
    {
     "data": {
      "text/plain": [
       "({'learning_rate': 0.5,\n",
       "  'max_depth': 5,\n",
       "  'min_child_weight': 2,\n",
       "  'n_estimators': 20},\n",
       " 0.619091448028456)"
      ]
     },
     "execution_count": 22,
     "metadata": {},
     "output_type": "execute_result"
    }
   ],
   "source": [
    "xgb_model = xgb.XGBClassifier()\n",
    "xgb_params = {'learning_rate': [0.01, 0.05, 0.1, 0.12, 0.15, 0.2, 0.3, 0.5, 0.7],\n",
    "              'max_depth': [5, 6, 7, 8],\n",
    "              'min_child_weight': [2, 3, 5, 11],\n",
    "              'n_estimators': [1, 2, 5, 10, 12, 15, 20]}\n",
    "\n",
    "xgb_search = GridSearchCV(estimator=xgb_model, param_grid=xgb_params, cv=5, n_jobs=4, scoring='accuracy')\n",
    "xgb_search.fit(train_X, train_y)\n",
    "xgb_search.best_params_, xgb_search.best_score_"
   ]
  },
  {
   "cell_type": "code",
   "execution_count": 23,
   "metadata": {
    "pycharm": {
     "name": "#%%\n"
    }
   },
   "outputs": [
    {
     "data": {
      "text/plain": [
       "0.62457798784605"
      ]
     },
     "execution_count": 23,
     "metadata": {},
     "output_type": "execute_result"
    },
    {
     "data": {
      "image/png": "[encoded data removed]",
      "text/plain": [
       "<Figure size 720x720 with 2 Axes>"
      ]
     },
     "metadata": {
      "needs_background": "light"
     },
     "output_type": "display_data"
    }
   ],
   "source": [
    "xgb_class: xgb.XGBClassifier = xgb_search.best_estimator_\n",
    "xgb_class.fit(train_X, train_y)\n",
    "xgb_pred = xgb_class.predict(test_X)\n",
    "fig, ax = plt.subplots(figsize=(10, 10))\n",
    "ConfusionMatrixDisplay.from_predictions(test_y, xgb_pred, ax=ax, display_labels=le.classes_)\n",
    "accuracy_score(xgb_pred, test_y)"
   ]
  },
  {
   "cell_type": "markdown",
   "metadata": {},
   "source": [
    "Градиентный бустинг получился точнее, чем дерево решений, но при этом все равно ошибается при определении классов Neutral Characters и Reformed Criminals"
   ]
  }
 ],
 "metadata": {
  "interpreter": {
   "hash": "91024fe05939acad9c5f3bfd42f799ad53bdc77898b5b6843a9d5c819313dd9a"
  },
  "kernelspec": {
   "display_name": "Python 3.9.13 ('myvenv': venv)",
   "language": "python",
   "name": "python3"
  },
  "language_info": {
   "codemirror_mode": {
    "name": "ipython",
    "version": 3
   },
   "file_extension": ".py",
   "mimetype": "text/x-python",
   "name": "python",
   "nbconvert_exporter": "python",
   "pygments_lexer": "ipython3",
   "version": "3.9.13"
  }
 },
 "nbformat": 4,
 "nbformat_minor": 1
}
