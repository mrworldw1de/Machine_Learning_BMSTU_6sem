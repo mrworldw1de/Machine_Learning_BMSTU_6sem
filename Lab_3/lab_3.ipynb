{
  "cells": [
    {
      "cell_type": "markdown",
      "metadata": {},
      "source": [
        "# Лабораторная работа №3\n",
        "Цель лабораторной работы: изучение способов подготовки выборки и подбора гиперпараметров на примере метода ближайших соседей.\n",
        "Задание:\n",
        "*   Выберите набор данных (датасет) для решения задачи классификации или регрессии.\n",
        "*   С использованием метода train_test_split разделите выборку на обучающую и тестовую.\n",
        "*   Обучите модель ближайших соседей для произвольно заданного гиперпараметра K. Оцените качество модели с помощью подходящих для задачи метрик.\n",
        "*   Произведите подбор гиперпараметра K с использованием GridSearchCV и/или RandomizedSearchCV и кросс-валидации, оцените качество оптимальной модели. Желательно использование нескольких стратегий кросс-валидации.\n",
        "*   Сравните метрики качества исходной и оптимальной моделей.\n"
      ]
    },
    {
      "cell_type": "code",
      "execution_count": 2,
      "metadata": {
        "id": "RfCtpdvC4gmG"
      },
      "outputs": [],
      "source": [
        "#Импорт библиотек:\n",
        "import warnings\n",
        "warnings.filterwarnings(\"ignore\")\n",
        "import pandas as pd\n",
        "import numpy as np\n",
        "import seaborn as sns\n",
        "import time\n",
        "from sklearn.datasets import make_classification\n",
        "import matplotlib.pyplot as plt\n",
        "from sklearn.metrics import classification_report"
      ]
    },
    {
      "cell_type": "markdown",
      "metadata": {},
      "source": [
        "Данные доступны по следующей ссылке:\n",
        "https://raw.githubusercontent.com/vadim0912/MLIntro2022_Spring/main/lecture03/HW2/weather.csv\n",
        "\n",
        "И представляют из себя данные о погоде в некоторых локациях. Целевая переменная - RainTomorrow (будет ли дождь завтра)."
      ]
    },
    {
      "cell_type": "code",
      "execution_count": 3,
      "metadata": {
        "id": "f_UlRrNA4q-6"
      },
      "outputs": [],
      "source": [
        "X = pd.read_csv('weather.csv')"
      ]
    },
    {
      "cell_type": "code",
      "execution_count": 4,
      "metadata": {
        "id": "dtmwDaw347iF"
      },
      "outputs": [],
      "source": [
        "y = X.RainTomorrow.replace({'No':0, 'Yes': 1})"
      ]
    },
    {
      "cell_type": "code",
      "execution_count": 5,
      "metadata": {
        "id": "Ja4dGESD4-dB"
      },
      "outputs": [],
      "source": [
        "del X['RainTomorrow']"
      ]
    },
    {
      "cell_type": "code",
      "execution_count": 6,
      "metadata": {
        "colab": {
          "base_uri": "https://localhost:8080/"
        },
        "id": "mxiR2qiI68JQ",
        "outputId": "efb109c6-1eed-4b47-9ed5-48a782fcc085"
      },
      "outputs": [
        {
          "data": {
            "text/plain": [
              "Unnamed: 0       142193\n",
              "Date             142193\n",
              "Location         142193\n",
              "MinTemp          141556\n",
              "MaxTemp          141871\n",
              "Rainfall         140787\n",
              "Evaporation       81350\n",
              "Sunshine          74377\n",
              "WindGustDir      132863\n",
              "WindGustSpeed    132923\n",
              "WindDir9am       132180\n",
              "WindDir3pm       138415\n",
              "WindSpeed9am     140845\n",
              "WindSpeed3pm     139563\n",
              "Humidity9am      140419\n",
              "Humidity3pm      138583\n",
              "Pressure9am      128179\n",
              "Pressure3pm      128212\n",
              "Cloud9am          88536\n",
              "Cloud3pm          85099\n",
              "Temp9am          141289\n",
              "Temp3pm          139467\n",
              "RainToday        140787\n",
              "dtype: int64"
            ]
          },
          "execution_count": 6,
          "metadata": {},
          "output_type": "execute_result"
        }
      ],
      "source": [
        "X.count()"
      ]
    },
    {
      "cell_type": "code",
      "execution_count": 7,
      "metadata": {
        "colab": {
          "base_uri": "https://localhost:8080/"
        },
        "id": "kprJG7DG5Kmh",
        "outputId": "ca789f7d-da37-47b1-9d37-fbe4afc430c5"
      },
      "outputs": [
        {
          "data": {
            "text/plain": [
              "Unnamed: 0           0\n",
              "Date                 0\n",
              "Location             0\n",
              "MinTemp            637\n",
              "MaxTemp            322\n",
              "Rainfall          1406\n",
              "Evaporation      60843\n",
              "Sunshine         67816\n",
              "WindGustDir       9330\n",
              "WindGustSpeed     9270\n",
              "WindDir9am       10013\n",
              "WindDir3pm        3778\n",
              "WindSpeed9am      1348\n",
              "WindSpeed3pm      2630\n",
              "Humidity9am       1774\n",
              "Humidity3pm       3610\n",
              "Pressure9am      14014\n",
              "Pressure3pm      13981\n",
              "Cloud9am         53657\n",
              "Cloud3pm         57094\n",
              "Temp9am            904\n",
              "Temp3pm           2726\n",
              "RainToday         1406\n",
              "dtype: int64"
            ]
          },
          "execution_count": 7,
          "metadata": {},
          "output_type": "execute_result"
        }
      ],
      "source": [
        "X.isnull().sum()"
      ]
    },
    {
      "cell_type": "code",
      "execution_count": 8,
      "metadata": {
        "colab": {
          "base_uri": "https://localhost:8080/"
        },
        "id": "SU6gscYHHD3a",
        "outputId": "a35c70e3-10d6-4b73-86c3-55f23201809c"
      },
      "outputs": [
        {
          "data": {
            "text/plain": [
              "Unnamed: 0           0\n",
              "Date                 0\n",
              "Location             0\n",
              "MinTemp            637\n",
              "MaxTemp            322\n",
              "Rainfall          1406\n",
              "Evaporation      60843\n",
              "Sunshine         67816\n",
              "WindGustDir       9330\n",
              "WindGustSpeed     9270\n",
              "WindDir9am       10013\n",
              "WindDir3pm        3778\n",
              "WindSpeed9am      1348\n",
              "WindSpeed3pm      2630\n",
              "Humidity9am       1774\n",
              "Humidity3pm       3610\n",
              "Pressure9am      14014\n",
              "Pressure3pm      13981\n",
              "Cloud9am         53657\n",
              "Cloud3pm         57094\n",
              "Temp9am            904\n",
              "Temp3pm           2726\n",
              "RainToday         1406\n",
              "dtype: int64"
            ]
          },
          "execution_count": 8,
          "metadata": {},
          "output_type": "execute_result"
        }
      ],
      "source": [
        "X.isnull().sum()"
      ]
    },
    {
      "cell_type": "markdown",
      "metadata": {
        "id": "16Tg_xCsCFM5"
      },
      "source": [
        "Немного непонятно, почему, если в этот день нет дождя(Rain today), то есть количество осадков (Rainfall)"
      ]
    },
    {
      "cell_type": "markdown",
      "metadata": {
        "id": "L7Ap9YrXE4e1"
      },
      "source": [
        "Тут я заметил, что дождь считается, что есть(RainToday), если Rainfall>1. В принципе, переменные сильно корелируют, поэтоу, возможноб в будущем избавлюсь от одной из них"
      ]
    },
    {
      "cell_type": "code",
      "execution_count": 9,
      "metadata": {
        "colab": {
          "base_uri": "https://localhost:8080/"
        },
        "id": "X9-L4ifTE0w9",
        "outputId": "6195c3b1-09a8-4ada-98d7-58157367fdab"
      },
      "outputs": [
        {
          "data": {
            "text/plain": [
              "Unnamed: 0                9\n",
              "Date             2007-11-02\n",
              "Location           Adelaide\n",
              "MinTemp                -7.8\n",
              "MaxTemp                -4.8\n",
              "Rainfall                1.1\n",
              "Evaporation             0.0\n",
              "Sunshine                0.0\n",
              "WindGustSpeed           7.0\n",
              "WindSpeed9am            0.0\n",
              "WindSpeed3pm            0.0\n",
              "Humidity9am             1.0\n",
              "Humidity3pm             1.0\n",
              "Pressure9am           980.5\n",
              "Pressure3pm           978.2\n",
              "Cloud9am                0.0\n",
              "Cloud3pm                0.0\n",
              "Temp9am                -7.2\n",
              "Temp3pm                -5.4\n",
              "RainToday               Yes\n",
              "dtype: object"
            ]
          },
          "execution_count": 9,
          "metadata": {},
          "output_type": "execute_result"
        }
      ],
      "source": [
        "X.loc[X['RainToday'] == 'Yes'].min()"
      ]
    },
    {
      "cell_type": "code",
      "execution_count": 10,
      "metadata": {
        "colab": {
          "base_uri": "https://localhost:8080/"
        },
        "id": "LujHWIe1DqcC",
        "outputId": "5b4ebe9d-1b52-4b63-b625-fae5bb7b07ea"
      },
      "outputs": [
        {
          "data": {
            "text/plain": [
              "Unnamed: 0           0\n",
              "Date                 0\n",
              "Location             0\n",
              "MinTemp             98\n",
              "MaxTemp             65\n",
              "Rainfall             0\n",
              "Evaporation      13659\n",
              "Sunshine         14759\n",
              "WindGustDir       2380\n",
              "WindGustSpeed     2356\n",
              "WindDir9am        1735\n",
              "WindDir3pm         942\n",
              "WindSpeed9am       235\n",
              "WindSpeed3pm       650\n",
              "Humidity9am        445\n",
              "Humidity3pm        902\n",
              "Pressure9am       3047\n",
              "Pressure3pm       3049\n",
              "Cloud9am         10615\n",
              "Cloud3pm         11377\n",
              "Temp9am            208\n",
              "Temp3pm            678\n",
              "RainToday            0\n",
              "dtype: int64"
            ]
          },
          "execution_count": 10,
          "metadata": {},
          "output_type": "execute_result"
        }
      ],
      "source": [
        "X.loc[X['RainToday'] == 'Yes'].isnull().sum()"
      ]
    },
    {
      "cell_type": "markdown",
      "metadata": {
        "id": "cPBtRyv5CZ4p"
      },
      "source": [
        "Удаляем айди и колонки, где данные отсутствуют в больших количествах, а также локацию"
      ]
    },
    {
      "cell_type": "code",
      "execution_count": 11,
      "metadata": {
        "id": "SBnAmDvU5xX6"
      },
      "outputs": [],
      "source": [
        "del X['Unnamed: 0' ]"
      ]
    },
    {
      "cell_type": "code",
      "execution_count": 12,
      "metadata": {
        "id": "26fvsVSo9BM8"
      },
      "outputs": [],
      "source": [
        "del X['Cloud9am']"
      ]
    },
    {
      "cell_type": "code",
      "execution_count": 13,
      "metadata": {
        "id": "dUGeTell-6l2"
      },
      "outputs": [],
      "source": [
        "del X['Evaporation']\n",
        "del X['Cloud3pm']\n",
        "del X['Sunshine'] "
      ]
    },
    {
      "cell_type": "code",
      "execution_count": 14,
      "metadata": {
        "id": "gTi3T6W0_ze9"
      },
      "outputs": [],
      "source": [
        "del X['Location']"
      ]
    },
    {
      "cell_type": "code",
      "execution_count": 15,
      "metadata": {
        "id": "spFKMOU_Fcdf"
      },
      "outputs": [],
      "source": [
        "del X['RainToday']"
      ]
    },
    {
      "cell_type": "code",
      "execution_count": 16,
      "metadata": {
        "colab": {
          "base_uri": "https://localhost:8080/"
        },
        "id": "dW6dCofnEbI0",
        "outputId": "046172ad-a3e5-4191-c376-03ba7d1bd7d6"
      },
      "outputs": [
        {
          "data": {
            "text/plain": [
              "Date              object\n",
              "MinTemp          float64\n",
              "MaxTemp          float64\n",
              "Rainfall         float64\n",
              "WindGustDir       object\n",
              "WindGustSpeed    float64\n",
              "WindDir9am        object\n",
              "WindDir3pm        object\n",
              "WindSpeed9am     float64\n",
              "WindSpeed3pm     float64\n",
              "Humidity9am      float64\n",
              "Humidity3pm      float64\n",
              "Pressure9am      float64\n",
              "Pressure3pm      float64\n",
              "Temp9am          float64\n",
              "Temp3pm          float64\n",
              "dtype: object"
            ]
          },
          "execution_count": 16,
          "metadata": {},
          "output_type": "execute_result"
        }
      ],
      "source": [
        "X.dtypes"
      ]
    },
    {
      "cell_type": "code",
      "execution_count": 17,
      "metadata": {
        "id": "-JlZYJCQBQCw"
      },
      "outputs": [],
      "source": [
        "good_X=X.fillna(method='ffill')"
      ]
    },
    {
      "cell_type": "code",
      "execution_count": 18,
      "metadata": {
        "colab": {
          "base_uri": "https://localhost:8080/"
        },
        "id": "-a8n6EnIAMgc",
        "outputId": "c0756ab8-d06b-4da3-8379-5fa7b2dd225a"
      },
      "outputs": [
        {
          "data": {
            "text/plain": [
              "Date             0\n",
              "MinTemp          0\n",
              "MaxTemp          0\n",
              "Rainfall         0\n",
              "WindGustDir      0\n",
              "WindGustSpeed    0\n",
              "WindDir9am       0\n",
              "WindDir3pm       0\n",
              "WindSpeed9am     0\n",
              "WindSpeed3pm     0\n",
              "Humidity9am      0\n",
              "Humidity3pm      0\n",
              "Pressure9am      0\n",
              "Pressure3pm      0\n",
              "Temp9am          0\n",
              "Temp3pm          0\n",
              "dtype: int64"
            ]
          },
          "execution_count": 18,
          "metadata": {},
          "output_type": "execute_result"
        }
      ],
      "source": [
        "good_X.isnull().sum()"
      ]
    },
    {
      "cell_type": "code",
      "execution_count": 19,
      "metadata": {
        "colab": {
          "base_uri": "https://localhost:8080/",
          "height": 357
        },
        "id": "b7bQlsfnpxje",
        "outputId": "056843e6-92c7-4346-fdc6-cf115f908720"
      },
      "outputs": [
        {
          "data": {
            "text/html": [
              "<div>\n",
              "<style scoped>\n",
              "    .dataframe tbody tr th:only-of-type {\n",
              "        vertical-align: middle;\n",
              "    }\n",
              "\n",
              "    .dataframe tbody tr th {\n",
              "        vertical-align: top;\n",
              "    }\n",
              "\n",
              "    .dataframe thead th {\n",
              "        text-align: right;\n",
              "    }\n",
              "</style>\n",
              "<table border=\"1\" class=\"dataframe\">\n",
              "  <thead>\n",
              "    <tr style=\"text-align: right;\">\n",
              "      <th></th>\n",
              "      <th>Date</th>\n",
              "      <th>MinTemp</th>\n",
              "      <th>MaxTemp</th>\n",
              "      <th>Rainfall</th>\n",
              "      <th>WindGustDir</th>\n",
              "      <th>WindGustSpeed</th>\n",
              "      <th>WindDir9am</th>\n",
              "      <th>WindDir3pm</th>\n",
              "      <th>WindSpeed9am</th>\n",
              "      <th>WindSpeed3pm</th>\n",
              "      <th>Humidity9am</th>\n",
              "      <th>Humidity3pm</th>\n",
              "      <th>Pressure9am</th>\n",
              "      <th>Pressure3pm</th>\n",
              "      <th>Temp9am</th>\n",
              "      <th>Temp3pm</th>\n",
              "    </tr>\n",
              "  </thead>\n",
              "  <tbody>\n",
              "    <tr>\n",
              "      <th>0</th>\n",
              "      <td>2008-12-01</td>\n",
              "      <td>13.4</td>\n",
              "      <td>22.9</td>\n",
              "      <td>0.6</td>\n",
              "      <td>W</td>\n",
              "      <td>44.0</td>\n",
              "      <td>W</td>\n",
              "      <td>WNW</td>\n",
              "      <td>20.0</td>\n",
              "      <td>24.0</td>\n",
              "      <td>71.0</td>\n",
              "      <td>22.0</td>\n",
              "      <td>1007.7</td>\n",
              "      <td>1007.1</td>\n",
              "      <td>16.9</td>\n",
              "      <td>21.8</td>\n",
              "    </tr>\n",
              "    <tr>\n",
              "      <th>1</th>\n",
              "      <td>2008-12-02</td>\n",
              "      <td>7.4</td>\n",
              "      <td>25.1</td>\n",
              "      <td>0.0</td>\n",
              "      <td>WNW</td>\n",
              "      <td>44.0</td>\n",
              "      <td>NNW</td>\n",
              "      <td>WSW</td>\n",
              "      <td>4.0</td>\n",
              "      <td>22.0</td>\n",
              "      <td>44.0</td>\n",
              "      <td>25.0</td>\n",
              "      <td>1010.6</td>\n",
              "      <td>1007.8</td>\n",
              "      <td>17.2</td>\n",
              "      <td>24.3</td>\n",
              "    </tr>\n",
              "    <tr>\n",
              "      <th>2</th>\n",
              "      <td>2008-12-03</td>\n",
              "      <td>12.9</td>\n",
              "      <td>25.7</td>\n",
              "      <td>0.0</td>\n",
              "      <td>WSW</td>\n",
              "      <td>46.0</td>\n",
              "      <td>W</td>\n",
              "      <td>WSW</td>\n",
              "      <td>19.0</td>\n",
              "      <td>26.0</td>\n",
              "      <td>38.0</td>\n",
              "      <td>30.0</td>\n",
              "      <td>1007.6</td>\n",
              "      <td>1008.7</td>\n",
              "      <td>21.0</td>\n",
              "      <td>23.2</td>\n",
              "    </tr>\n",
              "    <tr>\n",
              "      <th>3</th>\n",
              "      <td>2008-12-04</td>\n",
              "      <td>9.2</td>\n",
              "      <td>28.0</td>\n",
              "      <td>0.0</td>\n",
              "      <td>NE</td>\n",
              "      <td>24.0</td>\n",
              "      <td>SE</td>\n",
              "      <td>E</td>\n",
              "      <td>11.0</td>\n",
              "      <td>9.0</td>\n",
              "      <td>45.0</td>\n",
              "      <td>16.0</td>\n",
              "      <td>1017.6</td>\n",
              "      <td>1012.8</td>\n",
              "      <td>18.1</td>\n",
              "      <td>26.5</td>\n",
              "    </tr>\n",
              "    <tr>\n",
              "      <th>4</th>\n",
              "      <td>2008-12-05</td>\n",
              "      <td>17.5</td>\n",
              "      <td>32.3</td>\n",
              "      <td>1.0</td>\n",
              "      <td>W</td>\n",
              "      <td>41.0</td>\n",
              "      <td>ENE</td>\n",
              "      <td>NW</td>\n",
              "      <td>7.0</td>\n",
              "      <td>20.0</td>\n",
              "      <td>82.0</td>\n",
              "      <td>33.0</td>\n",
              "      <td>1010.8</td>\n",
              "      <td>1006.0</td>\n",
              "      <td>17.8</td>\n",
              "      <td>29.7</td>\n",
              "    </tr>\n",
              "  </tbody>\n",
              "</table>\n",
              "</div>"
            ],
            "text/plain": [
              "         Date  MinTemp  MaxTemp  Rainfall WindGustDir  WindGustSpeed  \\\n",
              "0  2008-12-01     13.4     22.9       0.6           W           44.0   \n",
              "1  2008-12-02      7.4     25.1       0.0         WNW           44.0   \n",
              "2  2008-12-03     12.9     25.7       0.0         WSW           46.0   \n",
              "3  2008-12-04      9.2     28.0       0.0          NE           24.0   \n",
              "4  2008-12-05     17.5     32.3       1.0           W           41.0   \n",
              "\n",
              "  WindDir9am WindDir3pm  WindSpeed9am  WindSpeed3pm  Humidity9am  Humidity3pm  \\\n",
              "0          W        WNW          20.0          24.0         71.0         22.0   \n",
              "1        NNW        WSW           4.0          22.0         44.0         25.0   \n",
              "2          W        WSW          19.0          26.0         38.0         30.0   \n",
              "3         SE          E          11.0           9.0         45.0         16.0   \n",
              "4        ENE         NW           7.0          20.0         82.0         33.0   \n",
              "\n",
              "   Pressure9am  Pressure3pm  Temp9am  Temp3pm  \n",
              "0       1007.7       1007.1     16.9     21.8  \n",
              "1       1010.6       1007.8     17.2     24.3  \n",
              "2       1007.6       1008.7     21.0     23.2  \n",
              "3       1017.6       1012.8     18.1     26.5  \n",
              "4       1010.8       1006.0     17.8     29.7  "
            ]
          },
          "execution_count": 19,
          "metadata": {},
          "output_type": "execute_result"
        }
      ],
      "source": [
        "good_X.head()"
      ]
    },
    {
      "cell_type": "code",
      "execution_count": 20,
      "metadata": {
        "id": "pFRX7J-LqO6B"
      },
      "outputs": [],
      "source": [
        "good_X.Date=pd.to_datetime(X.Date)"
      ]
    },
    {
      "cell_type": "code",
      "execution_count": 21,
      "metadata": {
        "colab": {
          "base_uri": "https://localhost:8080/",
          "height": 357
        },
        "id": "GIR2Kx2kpfCS",
        "outputId": "cab0a06f-84f7-40d9-ae37-85758543ad82"
      },
      "outputs": [
        {
          "data": {
            "text/html": [
              "<div>\n",
              "<style scoped>\n",
              "    .dataframe tbody tr th:only-of-type {\n",
              "        vertical-align: middle;\n",
              "    }\n",
              "\n",
              "    .dataframe tbody tr th {\n",
              "        vertical-align: top;\n",
              "    }\n",
              "\n",
              "    .dataframe thead th {\n",
              "        text-align: right;\n",
              "    }\n",
              "</style>\n",
              "<table border=\"1\" class=\"dataframe\">\n",
              "  <thead>\n",
              "    <tr style=\"text-align: right;\">\n",
              "      <th></th>\n",
              "      <th>Date</th>\n",
              "      <th>MinTemp</th>\n",
              "      <th>MaxTemp</th>\n",
              "      <th>Rainfall</th>\n",
              "      <th>WindGustDir</th>\n",
              "      <th>WindGustSpeed</th>\n",
              "      <th>WindDir9am</th>\n",
              "      <th>WindDir3pm</th>\n",
              "      <th>WindSpeed9am</th>\n",
              "      <th>WindSpeed3pm</th>\n",
              "      <th>Humidity9am</th>\n",
              "      <th>Humidity3pm</th>\n",
              "      <th>Pressure9am</th>\n",
              "      <th>Pressure3pm</th>\n",
              "      <th>Temp9am</th>\n",
              "      <th>Temp3pm</th>\n",
              "    </tr>\n",
              "  </thead>\n",
              "  <tbody>\n",
              "    <tr>\n",
              "      <th>0</th>\n",
              "      <td>2008-12-01</td>\n",
              "      <td>13.4</td>\n",
              "      <td>22.9</td>\n",
              "      <td>0.6</td>\n",
              "      <td>W</td>\n",
              "      <td>44.0</td>\n",
              "      <td>W</td>\n",
              "      <td>WNW</td>\n",
              "      <td>20.0</td>\n",
              "      <td>24.0</td>\n",
              "      <td>71.0</td>\n",
              "      <td>22.0</td>\n",
              "      <td>1007.7</td>\n",
              "      <td>1007.1</td>\n",
              "      <td>16.9</td>\n",
              "      <td>21.8</td>\n",
              "    </tr>\n",
              "    <tr>\n",
              "      <th>1</th>\n",
              "      <td>2008-12-02</td>\n",
              "      <td>7.4</td>\n",
              "      <td>25.1</td>\n",
              "      <td>0.0</td>\n",
              "      <td>WNW</td>\n",
              "      <td>44.0</td>\n",
              "      <td>NNW</td>\n",
              "      <td>WSW</td>\n",
              "      <td>4.0</td>\n",
              "      <td>22.0</td>\n",
              "      <td>44.0</td>\n",
              "      <td>25.0</td>\n",
              "      <td>1010.6</td>\n",
              "      <td>1007.8</td>\n",
              "      <td>17.2</td>\n",
              "      <td>24.3</td>\n",
              "    </tr>\n",
              "    <tr>\n",
              "      <th>2</th>\n",
              "      <td>2008-12-03</td>\n",
              "      <td>12.9</td>\n",
              "      <td>25.7</td>\n",
              "      <td>0.0</td>\n",
              "      <td>WSW</td>\n",
              "      <td>46.0</td>\n",
              "      <td>W</td>\n",
              "      <td>WSW</td>\n",
              "      <td>19.0</td>\n",
              "      <td>26.0</td>\n",
              "      <td>38.0</td>\n",
              "      <td>30.0</td>\n",
              "      <td>1007.6</td>\n",
              "      <td>1008.7</td>\n",
              "      <td>21.0</td>\n",
              "      <td>23.2</td>\n",
              "    </tr>\n",
              "    <tr>\n",
              "      <th>3</th>\n",
              "      <td>2008-12-04</td>\n",
              "      <td>9.2</td>\n",
              "      <td>28.0</td>\n",
              "      <td>0.0</td>\n",
              "      <td>NE</td>\n",
              "      <td>24.0</td>\n",
              "      <td>SE</td>\n",
              "      <td>E</td>\n",
              "      <td>11.0</td>\n",
              "      <td>9.0</td>\n",
              "      <td>45.0</td>\n",
              "      <td>16.0</td>\n",
              "      <td>1017.6</td>\n",
              "      <td>1012.8</td>\n",
              "      <td>18.1</td>\n",
              "      <td>26.5</td>\n",
              "    </tr>\n",
              "    <tr>\n",
              "      <th>4</th>\n",
              "      <td>2008-12-05</td>\n",
              "      <td>17.5</td>\n",
              "      <td>32.3</td>\n",
              "      <td>1.0</td>\n",
              "      <td>W</td>\n",
              "      <td>41.0</td>\n",
              "      <td>ENE</td>\n",
              "      <td>NW</td>\n",
              "      <td>7.0</td>\n",
              "      <td>20.0</td>\n",
              "      <td>82.0</td>\n",
              "      <td>33.0</td>\n",
              "      <td>1010.8</td>\n",
              "      <td>1006.0</td>\n",
              "      <td>17.8</td>\n",
              "      <td>29.7</td>\n",
              "    </tr>\n",
              "  </tbody>\n",
              "</table>\n",
              "</div>"
            ],
            "text/plain": [
              "        Date  MinTemp  MaxTemp  Rainfall WindGustDir  WindGustSpeed  \\\n",
              "0 2008-12-01     13.4     22.9       0.6           W           44.0   \n",
              "1 2008-12-02      7.4     25.1       0.0         WNW           44.0   \n",
              "2 2008-12-03     12.9     25.7       0.0         WSW           46.0   \n",
              "3 2008-12-04      9.2     28.0       0.0          NE           24.0   \n",
              "4 2008-12-05     17.5     32.3       1.0           W           41.0   \n",
              "\n",
              "  WindDir9am WindDir3pm  WindSpeed9am  WindSpeed3pm  Humidity9am  Humidity3pm  \\\n",
              "0          W        WNW          20.0          24.0         71.0         22.0   \n",
              "1        NNW        WSW           4.0          22.0         44.0         25.0   \n",
              "2          W        WSW          19.0          26.0         38.0         30.0   \n",
              "3         SE          E          11.0           9.0         45.0         16.0   \n",
              "4        ENE         NW           7.0          20.0         82.0         33.0   \n",
              "\n",
              "   Pressure9am  Pressure3pm  Temp9am  Temp3pm  \n",
              "0       1007.7       1007.1     16.9     21.8  \n",
              "1       1010.6       1007.8     17.2     24.3  \n",
              "2       1007.6       1008.7     21.0     23.2  \n",
              "3       1017.6       1012.8     18.1     26.5  \n",
              "4       1010.8       1006.0     17.8     29.7  "
            ]
          },
          "execution_count": 21,
          "metadata": {},
          "output_type": "execute_result"
        }
      ],
      "source": [
        "good_X.head()"
      ]
    },
    {
      "cell_type": "code",
      "execution_count": 22,
      "metadata": {
        "colab": {
          "base_uri": "https://localhost:8080/"
        },
        "id": "_X7RS3PsqqpN",
        "outputId": "26fd543d-88a6-4c03-bc00-484ceee184ae"
      },
      "outputs": [
        {
          "data": {
            "text/plain": [
              "Date             datetime64[ns]\n",
              "MinTemp                 float64\n",
              "MaxTemp                 float64\n",
              "Rainfall                float64\n",
              "WindGustDir              object\n",
              "WindGustSpeed           float64\n",
              "WindDir9am               object\n",
              "WindDir3pm               object\n",
              "WindSpeed9am            float64\n",
              "WindSpeed3pm            float64\n",
              "Humidity9am             float64\n",
              "Humidity3pm             float64\n",
              "Pressure9am             float64\n",
              "Pressure3pm             float64\n",
              "Temp9am                 float64\n",
              "Temp3pm                 float64\n",
              "dtype: object"
            ]
          },
          "execution_count": 22,
          "metadata": {},
          "output_type": "execute_result"
        }
      ],
      "source": [
        "good_X.dtypes"
      ]
    },
    {
      "cell_type": "code",
      "execution_count": 23,
      "metadata": {
        "id": "-5HY9jc5qvh-"
      },
      "outputs": [],
      "source": [
        "good_X=pd.get_dummies(good_X)"
      ]
    },
    {
      "cell_type": "code",
      "execution_count": 24,
      "metadata": {
        "colab": {
          "base_uri": "https://localhost:8080/",
          "height": 386
        },
        "id": "Nc9xvNTCsMy4",
        "outputId": "dd1088f2-e383-4357-ea34-cd583a17e331"
      },
      "outputs": [
        {
          "data": {
            "text/html": [
              "<div>\n",
              "<style scoped>\n",
              "    .dataframe tbody tr th:only-of-type {\n",
              "        vertical-align: middle;\n",
              "    }\n",
              "\n",
              "    .dataframe tbody tr th {\n",
              "        vertical-align: top;\n",
              "    }\n",
              "\n",
              "    .dataframe thead th {\n",
              "        text-align: right;\n",
              "    }\n",
              "</style>\n",
              "<table border=\"1\" class=\"dataframe\">\n",
              "  <thead>\n",
              "    <tr style=\"text-align: right;\">\n",
              "      <th></th>\n",
              "      <th>Date</th>\n",
              "      <th>MinTemp</th>\n",
              "      <th>MaxTemp</th>\n",
              "      <th>Rainfall</th>\n",
              "      <th>WindGustSpeed</th>\n",
              "      <th>WindSpeed9am</th>\n",
              "      <th>WindSpeed3pm</th>\n",
              "      <th>Humidity9am</th>\n",
              "      <th>Humidity3pm</th>\n",
              "      <th>Pressure9am</th>\n",
              "      <th>...</th>\n",
              "      <th>WindDir3pm_NNW</th>\n",
              "      <th>WindDir3pm_NW</th>\n",
              "      <th>WindDir3pm_S</th>\n",
              "      <th>WindDir3pm_SE</th>\n",
              "      <th>WindDir3pm_SSE</th>\n",
              "      <th>WindDir3pm_SSW</th>\n",
              "      <th>WindDir3pm_SW</th>\n",
              "      <th>WindDir3pm_W</th>\n",
              "      <th>WindDir3pm_WNW</th>\n",
              "      <th>WindDir3pm_WSW</th>\n",
              "    </tr>\n",
              "  </thead>\n",
              "  <tbody>\n",
              "    <tr>\n",
              "      <th>0</th>\n",
              "      <td>2008-12-01</td>\n",
              "      <td>13.4</td>\n",
              "      <td>22.9</td>\n",
              "      <td>0.6</td>\n",
              "      <td>44.0</td>\n",
              "      <td>20.0</td>\n",
              "      <td>24.0</td>\n",
              "      <td>71.0</td>\n",
              "      <td>22.0</td>\n",
              "      <td>1007.7</td>\n",
              "      <td>...</td>\n",
              "      <td>0</td>\n",
              "      <td>0</td>\n",
              "      <td>0</td>\n",
              "      <td>0</td>\n",
              "      <td>0</td>\n",
              "      <td>0</td>\n",
              "      <td>0</td>\n",
              "      <td>0</td>\n",
              "      <td>1</td>\n",
              "      <td>0</td>\n",
              "    </tr>\n",
              "    <tr>\n",
              "      <th>1</th>\n",
              "      <td>2008-12-02</td>\n",
              "      <td>7.4</td>\n",
              "      <td>25.1</td>\n",
              "      <td>0.0</td>\n",
              "      <td>44.0</td>\n",
              "      <td>4.0</td>\n",
              "      <td>22.0</td>\n",
              "      <td>44.0</td>\n",
              "      <td>25.0</td>\n",
              "      <td>1010.6</td>\n",
              "      <td>...</td>\n",
              "      <td>0</td>\n",
              "      <td>0</td>\n",
              "      <td>0</td>\n",
              "      <td>0</td>\n",
              "      <td>0</td>\n",
              "      <td>0</td>\n",
              "      <td>0</td>\n",
              "      <td>0</td>\n",
              "      <td>0</td>\n",
              "      <td>1</td>\n",
              "    </tr>\n",
              "    <tr>\n",
              "      <th>2</th>\n",
              "      <td>2008-12-03</td>\n",
              "      <td>12.9</td>\n",
              "      <td>25.7</td>\n",
              "      <td>0.0</td>\n",
              "      <td>46.0</td>\n",
              "      <td>19.0</td>\n",
              "      <td>26.0</td>\n",
              "      <td>38.0</td>\n",
              "      <td>30.0</td>\n",
              "      <td>1007.6</td>\n",
              "      <td>...</td>\n",
              "      <td>0</td>\n",
              "      <td>0</td>\n",
              "      <td>0</td>\n",
              "      <td>0</td>\n",
              "      <td>0</td>\n",
              "      <td>0</td>\n",
              "      <td>0</td>\n",
              "      <td>0</td>\n",
              "      <td>0</td>\n",
              "      <td>1</td>\n",
              "    </tr>\n",
              "    <tr>\n",
              "      <th>3</th>\n",
              "      <td>2008-12-04</td>\n",
              "      <td>9.2</td>\n",
              "      <td>28.0</td>\n",
              "      <td>0.0</td>\n",
              "      <td>24.0</td>\n",
              "      <td>11.0</td>\n",
              "      <td>9.0</td>\n",
              "      <td>45.0</td>\n",
              "      <td>16.0</td>\n",
              "      <td>1017.6</td>\n",
              "      <td>...</td>\n",
              "      <td>0</td>\n",
              "      <td>0</td>\n",
              "      <td>0</td>\n",
              "      <td>0</td>\n",
              "      <td>0</td>\n",
              "      <td>0</td>\n",
              "      <td>0</td>\n",
              "      <td>0</td>\n",
              "      <td>0</td>\n",
              "      <td>0</td>\n",
              "    </tr>\n",
              "    <tr>\n",
              "      <th>4</th>\n",
              "      <td>2008-12-05</td>\n",
              "      <td>17.5</td>\n",
              "      <td>32.3</td>\n",
              "      <td>1.0</td>\n",
              "      <td>41.0</td>\n",
              "      <td>7.0</td>\n",
              "      <td>20.0</td>\n",
              "      <td>82.0</td>\n",
              "      <td>33.0</td>\n",
              "      <td>1010.8</td>\n",
              "      <td>...</td>\n",
              "      <td>0</td>\n",
              "      <td>1</td>\n",
              "      <td>0</td>\n",
              "      <td>0</td>\n",
              "      <td>0</td>\n",
              "      <td>0</td>\n",
              "      <td>0</td>\n",
              "      <td>0</td>\n",
              "      <td>0</td>\n",
              "      <td>0</td>\n",
              "    </tr>\n",
              "  </tbody>\n",
              "</table>\n",
              "<p>5 rows × 61 columns</p>\n",
              "</div>"
            ],
            "text/plain": [
              "        Date  MinTemp  MaxTemp  Rainfall  WindGustSpeed  WindSpeed9am  \\\n",
              "0 2008-12-01     13.4     22.9       0.6           44.0          20.0   \n",
              "1 2008-12-02      7.4     25.1       0.0           44.0           4.0   \n",
              "2 2008-12-03     12.9     25.7       0.0           46.0          19.0   \n",
              "3 2008-12-04      9.2     28.0       0.0           24.0          11.0   \n",
              "4 2008-12-05     17.5     32.3       1.0           41.0           7.0   \n",
              "\n",
              "   WindSpeed3pm  Humidity9am  Humidity3pm  Pressure9am  ...  WindDir3pm_NNW  \\\n",
              "0          24.0         71.0         22.0       1007.7  ...               0   \n",
              "1          22.0         44.0         25.0       1010.6  ...               0   \n",
              "2          26.0         38.0         30.0       1007.6  ...               0   \n",
              "3           9.0         45.0         16.0       1017.6  ...               0   \n",
              "4          20.0         82.0         33.0       1010.8  ...               0   \n",
              "\n",
              "   WindDir3pm_NW  WindDir3pm_S  WindDir3pm_SE  WindDir3pm_SSE  WindDir3pm_SSW  \\\n",
              "0              0             0              0               0               0   \n",
              "1              0             0              0               0               0   \n",
              "2              0             0              0               0               0   \n",
              "3              0             0              0               0               0   \n",
              "4              1             0              0               0               0   \n",
              "\n",
              "   WindDir3pm_SW  WindDir3pm_W  WindDir3pm_WNW  WindDir3pm_WSW  \n",
              "0              0             0               1               0  \n",
              "1              0             0               0               1  \n",
              "2              0             0               0               1  \n",
              "3              0             0               0               0  \n",
              "4              0             0               0               0  \n",
              "\n",
              "[5 rows x 61 columns]"
            ]
          },
          "execution_count": 24,
          "metadata": {},
          "output_type": "execute_result"
        }
      ],
      "source": [
        "good_X.head()"
      ]
    },
    {
      "cell_type": "code",
      "execution_count": 25,
      "metadata": {
        "colab": {
          "base_uri": "https://localhost:8080/"
        },
        "id": "sW2qwacDvFiX",
        "outputId": "0c7ee5d7-e7fe-46f6-dd7e-2b03b01073f2"
      },
      "outputs": [
        {
          "data": {
            "text/plain": [
              "Date              datetime64[ns]\n",
              "MinTemp                  float64\n",
              "MaxTemp                  float64\n",
              "Rainfall                 float64\n",
              "WindGustSpeed            float64\n",
              "                       ...      \n",
              "WindDir3pm_SSW             uint8\n",
              "WindDir3pm_SW              uint8\n",
              "WindDir3pm_W               uint8\n",
              "WindDir3pm_WNW             uint8\n",
              "WindDir3pm_WSW             uint8\n",
              "Length: 61, dtype: object"
            ]
          },
          "execution_count": 25,
          "metadata": {},
          "output_type": "execute_result"
        }
      ],
      "source": [
        "good_X.dtypes"
      ]
    },
    {
      "cell_type": "code",
      "execution_count": 26,
      "metadata": {
        "id": "uGsIoJwqw26E"
      },
      "outputs": [],
      "source": [
        "good_X['dayofyear'] = good_X['Date'].dt.dayofyear"
      ]
    },
    {
      "cell_type": "code",
      "execution_count": 27,
      "metadata": {
        "id": "GuN2yLXIJWTx"
      },
      "outputs": [],
      "source": [
        "del good_X['Date']"
      ]
    },
    {
      "cell_type": "code",
      "execution_count": 28,
      "metadata": {
        "id": "UTR2Sy1ebrwN"
      },
      "outputs": [],
      "source": [
        "from sklearn.preprocessing import StandardScaler,MinMaxScaler\n",
        "sc2 = MinMaxScaler()\n",
        "good_X = sc2.fit_transform(good_X)"
      ]
    },
    {
      "cell_type": "code",
      "execution_count": 29,
      "metadata": {
        "id": "6PuOcc3K7lnb"
      },
      "outputs": [],
      "source": [
        "from sklearn.model_selection import train_test_split\n",
        "X_train, X_test, y_train, y_test = train_test_split(good_X, y, test_size=0.25, random_state=10, shuffle = False)"
      ]
    },
    {
      "cell_type": "markdown",
      "metadata": {
        "id": "eOpN0_mgu-fm"
      },
      "source": [
        "Данные теперь выглядят лучше, и имеют формат либо флоат, либо uint8\n"
      ]
    },
    {
      "cell_type": "code",
      "execution_count": 32,
      "metadata": {
        "id": "YvK8REPa8cy3"
      },
      "outputs": [],
      "source": [
        "from sklearn.model_selection import GridSearchCV"
      ]
    },
    {
      "cell_type": "markdown",
      "metadata": {
        "id": "ZewrVnR5kt1K"
      },
      "source": [
        "KNN"
      ]
    },
    {
      "cell_type": "code",
      "execution_count": 37,
      "metadata": {
        "id": "PQ57DjOpJ4ej"
      },
      "outputs": [],
      "source": [
        "from sklearn.neighbors import KNeighborsClassifier"
      ]
    },
    {
      "cell_type": "code",
      "execution_count": 62,
      "metadata": {
        "id": "rOKlKf1Sm9CA"
      },
      "outputs": [
        {
          "name": "stdout",
          "output_type": "stream",
          "text": [
            "              precision    recall  f1-score   support\n",
            "\n",
            "           0       0.82      0.98      0.89     27882\n",
            "           1       0.70      0.20      0.32      7667\n",
            "\n",
            "    accuracy                           0.81     35549\n",
            "   macro avg       0.76      0.59      0.60     35549\n",
            "weighted avg       0.79      0.81      0.77     35549\n",
            "\n"
          ]
        }
      ],
      "source": [
        "neigh = KNeighborsClassifier(n_neighbors=13)\n",
        "neigh.fit(X_train, y_train)\n",
        "print(classification_report(y_test, neigh.predict(X_test)))"
      ]
    },
    {
      "cell_type": "code",
      "execution_count": 39,
      "metadata": {
        "id": "BYsYb5bwjgNc"
      },
      "outputs": [],
      "source": [
        "from sklearn.feature_selection import chi2, SelectKBest, f_classif"
      ]
    },
    {
      "cell_type": "code",
      "execution_count": 40,
      "metadata": {
        "colab": {
          "base_uri": "https://localhost:8080/"
        },
        "id": "09BbZfpnjjkL",
        "outputId": "f5847610-702b-4a96-fc66-0713dc1497e1"
      },
      "outputs": [
        {
          "name": "stdout",
          "output_type": "stream",
          "text": [
            "Score:  [4.83320880e+01 7.08541369e+01 4.72149631e+02 2.24661534e+02\n",
            " 5.73909296e+01 4.54716015e+01 2.87953707e+02 1.63400966e+03\n",
            " 1.00834332e+02 8.14512865e+01 8.73072541e-02 1.06231114e+02\n",
            " 5.44671268e+01 8.01561050e+01 5.38149205e+00 7.28413457e+01\n",
            " 5.61480088e+01 2.34671816e-01 5.12120136e+01 3.25997297e+01\n",
            " 8.34456465e+00 1.80557277e+01 2.70782688e+00 4.98812288e-01\n",
            " 6.13982423e+00 2.82950582e+01 1.30716095e+01 2.73446975e+00\n",
            " 5.08153398e+01 1.11328889e+01 3.94658635e+01 1.88381683e+02\n",
            " 1.66571620e+00 4.11383674e+01 1.99203810e+02 5.76046876e+00\n",
            " 2.86669509e+01 5.95186373e+01 6.59942190e+01 4.01574504e-01\n",
            " 3.27905507e-03 3.37259215e-01 1.26690617e+00 1.31084816e-01\n",
            " 1.77465032e+01 4.94579694e+01 1.03046030e+01 1.00045929e+02\n",
            " 4.67576039e+01 1.59476891e+01 7.06292529e+01 1.76152892e+01\n",
            " 1.37516288e+00 6.67882046e-02 1.05529738e+00 1.23724282e+01\n",
            " 7.91862669e+00 1.70570815e+00 4.67233604e-01 1.31577295e+01\n",
            " 1.59172178e-01]\n"
          ]
        }
      ],
      "source": [
        "# будем использовать 5 лучших параметров\n",
        "ft = SelectKBest(chi2, k = 5).fit(X_train, y_train)\n",
        "print('Score: ', ft.scores_)\n"
      ]
    },
    {
      "cell_type": "code",
      "execution_count": 41,
      "metadata": {
        "id": "InQ6TxIBnwLI"
      },
      "outputs": [],
      "source": [
        "X_train_2 = ft.transform(X_train)\n",
        "X_test_2 = ft.transform(X_test)"
      ]
    },
    {
      "cell_type": "code",
      "execution_count": 42,
      "metadata": {
        "id": "WCeG6msrnyzg"
      },
      "outputs": [],
      "source": [
        "from sklearn import preprocessing\n",
        "X_train_3 = preprocessing.StandardScaler().fit(X_train_2).transform(X_train_2.astype(float))\n",
        "X_test_3 = preprocessing.StandardScaler().fit(X_test_2).transform(X_test_2.astype(float))"
      ]
    },
    {
      "cell_type": "code",
      "execution_count": 43,
      "metadata": {
        "id": "M_GNtqsdj-w3"
      },
      "outputs": [],
      "source": [
        "grid_params = { 'n_neighbors' : [5,7,9,11,13,15, 17],\n",
        "               'weights' : ['uniform','distance'],\n",
        "               'metric' : ['minkowski','euclidean','manhattan']}"
      ]
    },
    {
      "cell_type": "code",
      "execution_count": 44,
      "metadata": {
        "id": "_mK86MdEkFWF"
      },
      "outputs": [],
      "source": [
        "gs = GridSearchCV(KNeighborsClassifier(), grid_params, verbose = 1, cv=3, n_jobs = -1)"
      ]
    },
    {
      "cell_type": "code",
      "execution_count": 45,
      "metadata": {
        "colab": {
          "base_uri": "https://localhost:8080/"
        },
        "id": "sIjfikhckIxi",
        "outputId": "bf5a9b9b-7a78-4c11-d7fb-b84c2ddf30e3"
      },
      "outputs": [
        {
          "name": "stdout",
          "output_type": "stream",
          "text": [
            "Fitting 3 folds for each of 42 candidates, totalling 126 fits\n"
          ]
        }
      ],
      "source": [
        "g_res = gs.fit(X_train_3, y_train)"
      ]
    },
    {
      "cell_type": "code",
      "execution_count": 46,
      "metadata": {
        "colab": {
          "base_uri": "https://localhost:8080/"
        },
        "id": "58ymw1Q8pwPv",
        "outputId": "3069405d-1ab2-4779-8843-49473b747281"
      },
      "outputs": [
        {
          "data": {
            "text/plain": [
              "{'metric': 'manhattan', 'n_neighbors': 17, 'weights': 'uniform'}"
            ]
          },
          "execution_count": 46,
          "metadata": {},
          "output_type": "execute_result"
        }
      ],
      "source": [
        "g_res.best_params_"
      ]
    },
    {
      "cell_type": "code",
      "execution_count": 47,
      "metadata": {
        "id": "IA674PO9kT-L"
      },
      "outputs": [],
      "source": [
        "knn = g_res.best_estimator_"
      ]
    },
    {
      "cell_type": "code",
      "execution_count": 48,
      "metadata": {
        "colab": {
          "base_uri": "https://localhost:8080/"
        },
        "id": "UQ5QSyl4o-QP",
        "outputId": "5522a1d5-8cec-4cb0-cb61-7e054d6a8f17"
      },
      "outputs": [
        {
          "data": {
            "text/plain": [
              "KNeighborsClassifier(metric='manhattan', n_neighbors=17)"
            ]
          },
          "execution_count": 48,
          "metadata": {},
          "output_type": "execute_result"
        }
      ],
      "source": [
        "knn.fit(X_train_3, y_train)"
      ]
    },
    {
      "cell_type": "code",
      "execution_count": 66,
      "metadata": {},
      "outputs": [],
      "source": [
        "\n",
        "from sklearn.metrics import r2_score, mean_squared_error, mean_absolute_error\n",
        "def print_metrics(y_test, y_pred):\n",
        "    print(f\"R^2: {r2_score(y_test, y_pred)}\")\n",
        "    print(f\"MSE: {mean_squared_error(y_test, y_pred)}\")\n",
        "    print(f\"MAE: {mean_absolute_error(y_test, y_pred)}\")"
      ]
    },
    {
      "cell_type": "code",
      "execution_count": 49,
      "metadata": {
        "colab": {
          "base_uri": "https://localhost:8080/"
        },
        "id": "7tbdY4_QKCbo",
        "outputId": "41f432b1-d0f2-446c-e493-bed25bf4012c"
      },
      "outputs": [
        {
          "name": "stdout",
          "output_type": "stream",
          "text": [
            "              precision    recall  f1-score   support\n",
            "\n",
            "           0       0.86      0.95      0.90     27882\n",
            "           1       0.70      0.46      0.55      7667\n",
            "\n",
            "    accuracy                           0.84     35549\n",
            "   macro avg       0.78      0.70      0.73     35549\n",
            "weighted avg       0.83      0.84      0.83     35549\n",
            "\n"
          ]
        }
      ],
      "source": [
        "print(classification_report(y_test, knn.predict(X_test_3)))"
      ]
    },
    {
      "cell_type": "markdown",
      "metadata": {},
      "source": [
        "До оптимизации:"
      ]
    },
    {
      "cell_type": "code",
      "execution_count": 68,
      "metadata": {},
      "outputs": [
        {
          "name": "stdout",
          "output_type": "stream",
          "text": [
            "R^2: -0.12714442379714463\n",
            "MSE: 0.1906664041182593\n",
            "MAE: 0.1906664041182593\n"
          ]
        }
      ],
      "source": [
        "print_metrics(y_test, neigh.predict(X_test))"
      ]
    },
    {
      "cell_type": "markdown",
      "metadata": {},
      "source": [
        "После:"
      ]
    },
    {
      "cell_type": "code",
      "execution_count": 67,
      "metadata": {},
      "outputs": [
        {
          "name": "stdout",
          "output_type": "stream",
          "text": [
            "R^2: 0.053118862628955266\n",
            "MSE: 0.16017328194885933\n",
            "MAE: 0.16017328194885933\n"
          ]
        }
      ],
      "source": [
        "print_metrics(y_test, knn.predict(X_test_3))"
      ]
    },
    {
      "cell_type": "markdown",
      "metadata": {},
      "source": [
        "# Вывод:\n",
        "При подборе параметров при помощи grid search предсказание модели стало гораздо точнее, хотя и не идеально."
      ]
    }
  ],
  "metadata": {
    "colab": {
      "collapsed_sections": [],
      "name": "DZ_ML.ipynb",
      "provenance": []
    },
    "interpreter": {
      "hash": "91024fe05939acad9c5f3bfd42f799ad53bdc77898b5b6843a9d5c819313dd9a"
    },
    "kernelspec": {
      "display_name": "Python 3.9.13 ('myvenv': venv)",
      "language": "python",
      "name": "python3"
    },
    "language_info": {
      "codemirror_mode": {
        "name": "ipython",
        "version": 3
      },
      "file_extension": ".py",
      "mimetype": "text/x-python",
      "name": "python",
      "nbconvert_exporter": "python",
      "pygments_lexer": "ipython3",
      "version": "3.9.13"
    }
  },
  "nbformat": 4,
  "nbformat_minor": 0
}
